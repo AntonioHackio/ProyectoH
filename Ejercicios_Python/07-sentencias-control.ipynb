{
 "cells": [
  {
   "cell_type": "markdown",
   "metadata": {},
   "source": [
    "<div style=\"text-align: center;\">\n",
    "  <img src=\"https://github.com/Hack-io-Data/Imagenes/blob/main/01-LogosHackio/logo_celeste@4x.png?raw=true\" alt=\"logo hack(io)\" />\n",
    "</div>"
   ]
  },
  {
   "cell_type": "markdown",
   "metadata": {},
   "source": [
    "#### 1. Escribe un programa que determine si un número es par o impar.\n",
    "\n"
   ]
  },
  {
   "cell_type": "code",
   "execution_count": 10,
   "metadata": {},
   "outputs": [
    {
     "name": "stdout",
     "output_type": "stream",
     "text": [
      "Tu numero es par\n"
     ]
    }
   ],
   "source": [
    "numero_usuario = int(input(\"Dime un numero\"))\n",
    "if numero_usuario % 2 == 0:\n",
    "    print(\"Tu numero es par\")\n",
    "elif numero_usuario % 2 != 0:\n",
    "    print(\"Tu numero es impar\")    "
   ]
  },
  {
   "cell_type": "markdown",
   "metadata": {},
   "source": [
    "#### 2. Genera un programa que nos diga si es de noche, de día o tarde según la hora proporcionada por el usuario."
   ]
  },
  {
   "cell_type": "code",
   "execution_count": 25,
   "metadata": {},
   "outputs": [
    {
     "name": "stdout",
     "output_type": "stream",
     "text": [
      "Es de noche.\n"
     ]
    }
   ],
   "source": [
    "hora_usuario = int(input(\"Dime la hora 0-23:\"))\n",
    "\n",
    "if 0 <= hora_usuario < 24:\n",
    "    if 6 <= hora_usuario < 12:\n",
    "        print(\"Es de día.\")\n",
    "    elif 12 <= hora_usuario < 18:\n",
    "        print(\"Es por la tarde.\")\n",
    "    else:\n",
    "        print(\"Es de noche.\")\n",
    "else:\n",
    "    print(\"Dime una hora válida entre 0 y 23.\")\n",
    "\n"
   ]
  },
  {
   "cell_type": "markdown",
   "metadata": {},
   "source": [
    "#### 3. Dado un nombre imprime un saludo personalizado."
   ]
  },
  {
   "cell_type": "code",
   "execution_count": 41,
   "metadata": {},
   "outputs": [
    {
     "name": "stdout",
     "output_type": "stream",
     "text": [
      "Hola Antonio como nos alegra tenerte por aqui!\n"
     ]
    }
   ],
   "source": [
    "nombre_usuario = (input(\"Por favor, indiqueme su nombre:\"))\n",
    "print(\"Hola\", nombre_usuario, \"como nos alegra tenerte por aqui!\")"
   ]
  },
  {
   "cell_type": "markdown",
   "metadata": {},
   "source": [
    "#### 4. Escribe un programa que determine qué calificación en texto tiene un alumno en base a su calificación numérica. Las reglas de calificación son: \n",
    "\n",
    "- 0 - 69 insuficiente\n",
    "\n",
    "- 70 - 79 bien\n",
    "\n",
    "- 80 - 89 muy bien\n",
    "\n",
    "- 90 - 100 excelente\n"
   ]
  },
  {
   "cell_type": "code",
   "execution_count": 47,
   "metadata": {},
   "outputs": [
    {
     "name": "stdout",
     "output_type": "stream",
     "text": [
      "Muy bien!\n"
     ]
    }
   ],
   "source": [
    "nota_usuario = int(input(\"Dime tu nota:\"))\n",
    "\n",
    "if 0 <= nota_usuario < 101:\n",
    "    if 0 <= nota_usuario < 69:\n",
    "        print(\"insuficiente :(\")\n",
    "    elif 70 <= nota_usuario < 79:\n",
    "        print(\"Bien\")\n",
    "    elif 80 <= nota_usuario < 89:\n",
    "        print(\"Muy bien!\")    \n",
    "    else:\n",
    "        print(\"Excelente :)\")\n",
    "else:\n",
    "    print(\"Eso es imposible tomate!\")"
   ]
  },
  {
   "cell_type": "markdown",
   "metadata": {},
   "source": [
    "#### 5. Escribe un programa que imprima el día de la semana, dado un número del 1 al 7.\n"
   ]
  },
  {
   "cell_type": "code",
   "execution_count": 61,
   "metadata": {},
   "outputs": [
    {
     "name": "stdout",
     "output_type": "stream",
     "text": [
      "Sabado\n"
     ]
    }
   ],
   "source": [
    "n_usuario = int(input(\"Dime un numero 1-7:\"))\n",
    "\n",
    "if 0 <= n_usuario < 8:\n",
    "    if  n_usuario ==1 :\n",
    "        print(\"Lunes\")\n",
    "    elif n_usuario == 2 :\n",
    "        print(\"Martes\")\n",
    "    elif n_usuario == 3:\n",
    "        print(\"Miercoles\")\n",
    "    elif n_usuario == 4:\n",
    "        print(\"Jueves\")    \n",
    "    elif n_usuario == 5:\n",
    "        print(\"Viernes\")  \n",
    "    elif n_usuario == 6:\n",
    "        print(\"Sabado\")\n",
    "    elif n_usuario == 7:\n",
    "        print(\"Domingo\")                          \n",
    "else:\n",
    "    print(\"Del 1-7 por favor...\")"
   ]
  },
  {
   "cell_type": "markdown",
   "metadata": {},
   "source": [
    "#### 6. Escribe un programa que determine si un número es positivo, negativo o cero."
   ]
  },
  {
   "cell_type": "code",
   "execution_count": 74,
   "metadata": {},
   "outputs": [
    {
     "name": "stdout",
     "output_type": "stream",
     "text": [
      "Positivo!\n"
     ]
    }
   ],
   "source": [
    "nro_usuario = float(input(\"Dime un numero:\"))\n",
    "\n",
    "if nro_usuario > 0:\n",
    "    print(\"Positivo!\")\n",
    "elif nro_usuario < 0:\n",
    "    print(\"Negativo!\")\n",
    "else:\n",
    "    print(\"Cero!\")"
   ]
  },
  {
   "cell_type": "markdown",
   "metadata": {},
   "source": [
    "#### 7. Escribe un programa que determine si una persona puede conducir o no. La edad mínima para conducir es 18 años. \n"
   ]
  },
  {
   "cell_type": "code",
   "execution_count": 78,
   "metadata": {},
   "outputs": [
    {
     "name": "stdout",
     "output_type": "stream",
     "text": [
      "No puedes conducir!\n"
     ]
    }
   ],
   "source": [
    "edad_usuario = int(input(\"Dime tu edad:\"))\n",
    "\n",
    "if edad_usuario >= 18:\n",
    "    print(\"Puedes conducir!\")\n",
    "else:\n",
    "    print(\"No puedes conducir!\")"
   ]
  },
  {
   "cell_type": "markdown",
   "metadata": {},
   "source": [
    "#### 8. Escribe un programa que determine si un estudiante aprobó o suspendió un examen."
   ]
  },
  {
   "cell_type": "code",
   "execution_count": 81,
   "metadata": {},
   "outputs": [
    {
     "name": "stdout",
     "output_type": "stream",
     "text": [
      "Has suspendido :(\n"
     ]
    }
   ],
   "source": [
    "nota_usuario = int(input(\"Dime tu nota:\"))\n",
    "\n",
    "if nota_usuario >= 5:\n",
    "    print(\"Has aprobado :)\")\n",
    "else:\n",
    "    print(\"Has suspendido :(\")"
   ]
  },
  {
   "cell_type": "markdown",
   "metadata": {},
   "source": [
    "#### 9. Escribe un programa que determine si un número es múltiplo de 3 y 5.\n"
   ]
  },
  {
   "cell_type": "code",
   "execution_count": 85,
   "metadata": {},
   "outputs": [
    {
     "name": "stdout",
     "output_type": "stream",
     "text": [
      "Es múltiplo de 3 y 5\n"
     ]
    }
   ],
   "source": [
    "num_usuario = int(input(\"Introduce un número:\"))\n",
    "\n",
    "if num_usuario % 3 == 0 and num_usuario % 5 == 0:\n",
    "    print(\"Es múltiplo de 3 y 5\")\n",
    "else:\n",
    "    print(\"No es múltiplo de 3 y 5\")\n"
   ]
  },
  {
   "cell_type": "markdown",
   "metadata": {},
   "source": [
    "#### 10. Escribe un programa que determine si un número es par o impar.\n"
   ]
  },
  {
   "cell_type": "code",
   "execution_count": 42,
   "metadata": {},
   "outputs": [
    {
     "name": "stdout",
     "output_type": "stream",
     "text": [
      "Tu numero es par\n"
     ]
    }
   ],
   "source": [
    "numero_usuario = int(input(\"Dime un numero\"))\n",
    "if numero_usuario % 2 == 0:\n",
    "    print(\"Tu numero es par\")\n",
    "elif numero_usuario % 2 != 0:\n",
    "    print(\"Tu numero es impar\")    "
   ]
  }
 ],
 "metadata": {
  "kernelspec": {
   "display_name": "Python 3",
   "language": "python",
   "name": "python3"
  },
  "language_info": {
   "codemirror_mode": {
    "name": "ipython",
    "version": 3
   },
   "file_extension": ".py",
   "mimetype": "text/x-python",
   "name": "python",
   "nbconvert_exporter": "python",
   "pygments_lexer": "ipython3",
   "version": "3.13.0"
  }
 },
 "nbformat": 4,
 "nbformat_minor": 2
}
